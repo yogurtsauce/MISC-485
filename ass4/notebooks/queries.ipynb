{
 "cells": [
  {
   "cell_type": "code",
   "execution_count": 2,
   "metadata": {},
   "outputs": [],
   "source": [
    "import sqlite3\n",
    "\n",
    "conn = sqlite3.connect('../database/database.db')\n",
    "\n",
    "cursor = conn.cursor()"
   ]
  },
  {
   "cell_type": "code",
   "execution_count": 10,
   "metadata": {},
   "outputs": [],
   "source": [
    "import sqlite3\n",
    "from IPython.display import Image\n",
    "\n",
    "connect = sqlite3.connect('ass3.db')\n",
    "cursor = connect.cursor()\n",
    "\n",
    "\n",
    "def query(input):\n",
    "    cursor.execute(input)\n",
    "\n",
    "    records = cursor.fetchall()\n",
    "\n",
    "    for record in records:\n",
    "        print(record)\n"
   ]
  },
  {
   "cell_type": "code",
   "execution_count": 14,
   "metadata": {},
   "outputs": [
    {
     "ename": "OperationalError",
     "evalue": "no such table: OfficerDim",
     "output_type": "error",
     "traceback": [
      "\u001b[0;31m---------------------------------------------------------------------------\u001b[0m",
      "\u001b[0;31mOperationalError\u001b[0m                          Traceback (most recent call last)",
      "\u001b[1;32m/home/nicholas/code/adv db/ass4/notebooks/queries.ipynb Cell 3'\u001b[0m in \u001b[0;36m<module>\u001b[0;34m\u001b[0m\n\u001b[0;32m----> <a href='vscode-notebook-cell:/home/nicholas/code/adv%20db/ass4/notebooks/queries.ipynb#ch0000002?line=0'>1</a>\u001b[0m query(\u001b[39m'''\u001b[39;49m\n\u001b[1;32m      <a href='vscode-notebook-cell:/home/nicholas/code/adv%20db/ass4/notebooks/queries.ipynb#ch0000002?line=1'>2</a>\u001b[0m \u001b[39m      select *\u001b[39;49m\n\u001b[1;32m      <a href='vscode-notebook-cell:/home/nicholas/code/adv%20db/ass4/notebooks/queries.ipynb#ch0000002?line=2'>3</a>\u001b[0m \u001b[39m      from OfficerDim\u001b[39;49m\n\u001b[1;32m      <a href='vscode-notebook-cell:/home/nicholas/code/adv%20db/ass4/notebooks/queries.ipynb#ch0000002?line=3'>4</a>\u001b[0m \u001b[39m      \u001b[39;49m\u001b[39m'''\u001b[39;49m)\n",
      "\u001b[1;32m/home/nicholas/code/adv db/ass4/notebooks/queries.ipynb Cell 2'\u001b[0m in \u001b[0;36mquery\u001b[0;34m(input)\u001b[0m\n\u001b[1;32m      <a href='vscode-notebook-cell:/home/nicholas/code/adv%20db/ass4/notebooks/queries.ipynb#ch0000001?line=7'>8</a>\u001b[0m \u001b[39mdef\u001b[39;00m \u001b[39mquery\u001b[39m(\u001b[39minput\u001b[39m):\n\u001b[0;32m----> <a href='vscode-notebook-cell:/home/nicholas/code/adv%20db/ass4/notebooks/queries.ipynb#ch0000001?line=8'>9</a>\u001b[0m     cursor\u001b[39m.\u001b[39;49mexecute(\u001b[39minput\u001b[39;49m)\n\u001b[1;32m     <a href='vscode-notebook-cell:/home/nicholas/code/adv%20db/ass4/notebooks/queries.ipynb#ch0000001?line=10'>11</a>\u001b[0m     records \u001b[39m=\u001b[39m cursor\u001b[39m.\u001b[39mfetchall()\n\u001b[1;32m     <a href='vscode-notebook-cell:/home/nicholas/code/adv%20db/ass4/notebooks/queries.ipynb#ch0000001?line=12'>13</a>\u001b[0m     \u001b[39mfor\u001b[39;00m record \u001b[39min\u001b[39;00m records:\n",
      "\u001b[0;31mOperationalError\u001b[0m: no such table: OfficerDim"
     ]
    }
   ],
   "source": [
    "query('''\n",
    "      select *\n",
    "      from OfficerDim\n",
    "      ''')"
   ]
  }
 ],
 "metadata": {
  "interpreter": {
   "hash": "31f2aee4e71d21fbe5cf8b01ff0e069b9275f58929596ceb00d14d90e3e16cd6"
  },
  "kernelspec": {
   "display_name": "Python 3.8.10 64-bit",
   "language": "python",
   "name": "python3"
  },
  "language_info": {
   "codemirror_mode": {
    "name": "ipython",
    "version": 3
   },
   "file_extension": ".py",
   "mimetype": "text/x-python",
   "name": "python",
   "nbconvert_exporter": "python",
   "pygments_lexer": "ipython3",
   "version": "3.8.10"
  },
  "orig_nbformat": 4
 },
 "nbformat": 4,
 "nbformat_minor": 2
}
