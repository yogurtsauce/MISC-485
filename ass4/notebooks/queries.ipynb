{
 "cells": [
  {
   "cell_type": "code",
   "execution_count": 26,
   "metadata": {},
   "outputs": [],
   "source": [
    "import sqlite3\n",
    "from IPython.display import Image\n",
    "\n",
    "conn = sqlite3.connect('../database/database.db')\n",
    "\n",
    "cursor = conn.cursor()\n",
    "\n",
    "\n",
    "def query(input):\n",
    "    \n",
    "    cursor.execute(input)\n",
    "    colnames = cursor.description\n",
    "    for name in colnames:\n",
    "        print(name[0])\n",
    "\n",
    "\n",
    "    records = cursor.fetchall()\n",
    "\n",
    "    for record in records:\n",
    "        print(record)\n"
   ]
  },
  {
   "cell_type": "code",
   "execution_count": 28,
   "metadata": {},
   "outputs": [
    {
     "name": "stdout",
     "output_type": "stream",
     "text": [
      "Key\n",
      "Id\n",
      "Name\n",
      "Rank\n",
      "(19, '1', 'Joe', 'Sergeant')\n",
      "(20, '2', 'Mike', 'Patrolman')\n",
      "(21, '3', 'Bob', 'Patrolman')\n"
     ]
    }
   ],
   "source": [
    "query('''\n",
    "      select *\n",
    "      from OfficerDim\n",
    "      ''')"
   ]
  },
  {
   "cell_type": "code",
   "execution_count": 30,
   "metadata": {},
   "outputs": [
    {
     "name": "stdout",
     "output_type": "stream",
     "text": [
      "Key\n",
      "LPN\n",
      "Make\n",
      "Model\n",
      "Year\n",
      "OwnerDLN\n",
      "OwnerName\n",
      "OwnerGender\n",
      "OwnerBirthYear\n",
      "(1, 'IL2222', 'Honda', 'Civic', 2020, '111', 'Bill', 'Male', 1998)\n",
      "(2, 'IL2222', 'Honda', 'Civic', 2020, '222', 'Suzy', 'Female', 1987)\n",
      "(3, 'IL1111', 'Honda', 'CRV', 2017, '111', 'Bill', 'Male', 1998)\n"
     ]
    }
   ],
   "source": [
    "query('''\n",
    "      select * from vehicledim''')"
   ]
  },
  {
   "cell_type": "code",
   "execution_count": 42,
   "metadata": {},
   "outputs": [
    {
     "name": "stdout",
     "output_type": "stream",
     "text": [
      "Category\n",
      "Violation\n",
      "Fee\n",
      "('driving', 'Red Light', 200)\n",
      "('driving', 'Seat Belt', 100)\n",
      "('parking', 'Hydrant', 150)\n",
      "('parking', 'Meter Expired', 100)\n"
     ]
    }
   ],
   "source": [
    "query('''\n",
    "      select \n",
    "      \n",
    "      case when id='a' then 'driving'\n",
    "        else 'driving' end as Category,\n",
    "      violation,\n",
    "      fee \n",
    "      \n",
    "      from drivingtickettype\n",
    "    \n",
    "      union\n",
    "      \n",
    "      select \n",
    "      \n",
    "      case when id='a' then 'parking'\n",
    "        else 'parking' end as Category,\n",
    "      violation,\n",
    "      fee\n",
    "       \n",
    "      from parkingtickettype\n",
    "\n",
    "      ''')"
   ]
  },
  {
   "cell_type": "code",
   "execution_count": 44,
   "metadata": {},
   "outputs": [
    {
     "name": "stdout",
     "output_type": "stream",
     "text": [
      "Key\n",
      "Category\n",
      "Violation\n",
      "Fee\n",
      "(1, 'driving', 'Red Light', 200)\n",
      "(2, 'driving', 'Seat Belt', 100)\n",
      "(3, 'parking', 'Hydrant', 150)\n",
      "(4, 'parking', 'Meter Expired', 100)\n"
     ]
    }
   ],
   "source": [
    "query('select * from TicketTypeDim')"
   ]
  },
  {
   "cell_type": "code",
   "execution_count": 71,
   "metadata": {},
   "outputs": [
    {
     "name": "stdout",
     "output_type": "stream",
     "text": [
      "DayOfWeek\n",
      "DayOfMonth\n",
      "Month\n",
      "Quarter\n",
      "Year\n",
      "('Wednesday', '01', '01', 'q4', '2020')\n",
      "('Thursday', '02', '01', 'q4', '2020')\n",
      "('Thursday', '02', '01', 'q4', '2020')\n",
      "('Wednesday', '01', '01', 'q4', '2020')\n",
      "('Wednesday', '01', '01', 'q4', '2020')\n",
      "('Thursday', '02', '01', 'q4', '2020')\n"
     ]
    }
   ],
   "source": [
    "query('''\n",
    "      select\n",
    "      -------------------------------------- case for days of week\n",
    "      case cast (strftime('%w', date) as integer)\n",
    "      when 0 then 'Sunday'\n",
    "      when 1 then 'Monday'\n",
    "      when 2 then 'Tuesday'\n",
    "      when 3 then 'Wednesday'\n",
    "      when 4 then 'Thursday'\n",
    "      when 5 then 'Friday'\n",
    "      else 'Saturday' end as DayOfWeek,\n",
    "      strftime('%d', date) as DayOfMonth,\n",
    "      strftime('%m', date) as Month,\n",
    "      ------------------------------------- case for quarters\n",
    "      case cast (strftime('m',date) as integer)\n",
    "      when 1 | 2 | 3 then 'Q1'\n",
    "      when 4 | 5 | 6 then 'Q2'\n",
    "      when 7 | 8 | 9 then 'Q3'\n",
    "      when 10 | 11 | 12 then 'Q4'\n",
    "      else 'q4' end as Quarter,\n",
    "      --------------------------------------\n",
    "      \n",
    "      strftime('%Y', date) as Year\n",
    "      \n",
    "      from DrivingTicket\n",
    "\n",
    "      union all\n",
    "      \n",
    "      select\n",
    "      -------------------------------------- case for days of week\n",
    "      case cast (strftime('%w', date) as integer)\n",
    "      when 0 then 'Sunday'\n",
    "      when 1 then 'Monday'\n",
    "      when 2 then 'Tuesday'\n",
    "      when 3 then 'Wednesday'\n",
    "      when 4 then 'Thursday'\n",
    "      when 5 then 'Friday'\n",
    "      else 'Saturday' end as DayOfWeek,\n",
    "      strftime('%d', date) as DayOfMonth,\n",
    "      strftime('%m', date) as Month,\n",
    "      ------------------------------------- case for quarters\n",
    "      case cast (strftime('m',date) as integer)\n",
    "      when 1 | 2 | 3 then 'Q1'\n",
    "      when 4 | 5 | 6 then 'Q2'\n",
    "      when 7 | 8 | 9 then 'Q3'\n",
    "      when 10 | 11 | 12 then 'Q4'\n",
    "      else 'q4' end as Quarter,\n",
    "      --------------------------------------\n",
    "      \n",
    "      strftime('%Y', date) as Year\n",
    "      \n",
    "      from ParkingTicket\n",
    "      ''')"
   ]
  },
  {
   "cell_type": "code",
   "execution_count": 97,
   "metadata": {},
   "outputs": [
    {
     "name": "stdout",
     "output_type": "stream",
     "text": [
      "Date\n",
      "('2020-01-01',)\n",
      "('2020-01-02',)\n"
     ]
    }
   ],
   "source": [
    "query('''\n",
    "      select distinct date \n",
    "      from drivingticket\n",
    "      \n",
    "      union\n",
    "      \n",
    "      select distinct date\n",
    "      from parkingticket\n",
    "      ''')"
   ]
  },
  {
   "cell_type": "code",
   "execution_count": 84,
   "metadata": {},
   "outputs": [],
   "source": [
    "cursor.execute('delete from CalendarDim')\n",
    "conn.commit()"
   ]
  },
  {
   "cell_type": "code",
   "execution_count": 101,
   "metadata": {},
   "outputs": [
    {
     "name": "stdout",
     "output_type": "stream",
     "text": [
      "Key\n",
      "Fulldate\n",
      "DayOfWeek\n",
      "DayOfMonth\n",
      "Month\n",
      "Quarter\n",
      "Year\n",
      "(33, '2020-01-01', 'Wednesday', 1, 1, 'q4', 2020)\n",
      "(34, '2020-01-01', 'Thursday', 2, 1, 'q4', 2020)\n",
      "(35, '2020-01-02', 'Wednesday', 1, 1, 'q4', 2020)\n",
      "(36, '2020-01-02', 'Thursday', 2, 1, 'q4', 2020)\n"
     ]
    }
   ],
   "source": [
    "query('select * from calendardim')"
   ]
  },
  {
   "cell_type": "code",
   "execution_count": 98,
   "metadata": {},
   "outputs": [
    {
     "name": "stdout",
     "output_type": "stream",
     "text": [
      "DayOfWeek\n",
      "DayOfMonth\n",
      "Month\n",
      "Quarter\n",
      "Year\n",
      "('Wednesday', '01', '01', 'q4', '2020')\n",
      "('Thursday', '02', '01', 'q4', '2020')\n"
     ]
    }
   ],
   "source": [
    "query('''\n",
    "      with fulldate as (\n",
    "            select distinct date \n",
    "            from drivingticket\n",
    "\n",
    "            union\n",
    "\n",
    "            select distinct date\n",
    "            from parkingticket\n",
    "      )\n",
    "      \n",
    "      select\n",
    "      -------------------------------------- case for days of week\n",
    "      case cast (strftime('%w', date) as integer)\n",
    "      when 0 then 'Sunday'\n",
    "      when 1 then 'Monday'\n",
    "      when 2 then 'Tuesday'\n",
    "      when 3 then 'Wednesday'\n",
    "      when 4 then 'Thursday'\n",
    "      when 5 then 'Friday'\n",
    "      else 'Saturday' end as DayOfWeek,\n",
    "      strftime('%d', date) as DayOfMonth,\n",
    "      strftime('%m', date) as Month,\n",
    "      ------------------------------------- case for quarters\n",
    "      case cast (strftime('m',date) as integer)\n",
    "      when 1 | 2 | 3 then 'Q1'\n",
    "      when 4 | 5 | 6 then 'Q2'\n",
    "      when 7 | 8 | 9 then 'Q3'\n",
    "      when 10 | 11 | 12 then 'Q4'\n",
    "      else 'q4' end as Quarter,\n",
    "      --------------------------------------\n",
    "      \n",
    "      strftime('%Y', date) as Year\n",
    "      \n",
    "      from fulldate\n",
    "      \n",
    "      ''')"
   ]
  },
  {
   "cell_type": "code",
   "execution_count": 100,
   "metadata": {},
   "outputs": [
    {
     "name": "stdout",
     "output_type": "stream",
     "text": [
      "DayOfWeek\n",
      "DayOfMonth\n",
      "Month\n",
      "Quarter\n",
      "Year\n",
      "('Wednesday', '01', '01', 'q4', '2020')\n",
      "('Thursday', '02', '01', 'q4', '2020')\n"
     ]
    }
   ],
   "source": [
    "query('''\n",
    "      with fulldate as (\n",
    "            select distinct date \n",
    "            from drivingticket\n",
    "\n",
    "            union\n",
    "\n",
    "            select distinct date\n",
    "            from parkingticket\n",
    "      ),\n",
    "      test as (\n",
    "      select\n",
    "      -------------------------------------- case for days of week\n",
    "      case cast (strftime('%w', date) as integer)\n",
    "      when 0 then 'Sunday'\n",
    "      when 1 then 'Monday'\n",
    "      when 2 then 'Tuesday'\n",
    "      when 3 then 'Wednesday'\n",
    "      when 4 then 'Thursday'\n",
    "      when 5 then 'Friday'\n",
    "      else 'Saturday' end as DayOfWeek,\n",
    "      strftime('%d', date) as DayOfMonth,\n",
    "      strftime('%m', date) as Month,\n",
    "      ------------------------------------- case for quarters\n",
    "      case cast (strftime('m',date) as integer)\n",
    "      when 1 | 2 | 3 then 'Q1'\n",
    "      when 4 | 5 | 6 then 'Q2'\n",
    "      when 7 | 8 | 9 then 'Q3'\n",
    "      when 10 | 11 | 12 then 'Q4'\n",
    "      else 'q4' end as Quarter,\n",
    "      --------------------------------------\n",
    "      \n",
    "      strftime('%Y', date) as Year\n",
    "      \n",
    "      from fulldate)\n",
    "      select * from test\n",
    "      \n",
    "      ''')"
   ]
  }
 ],
 "metadata": {
  "interpreter": {
   "hash": "31f2aee4e71d21fbe5cf8b01ff0e069b9275f58929596ceb00d14d90e3e16cd6"
  },
  "kernelspec": {
   "display_name": "Python 3.8.10 64-bit",
   "language": "python",
   "name": "python3"
  },
  "language_info": {
   "codemirror_mode": {
    "name": "ipython",
    "version": 3
   },
   "file_extension": ".py",
   "mimetype": "text/x-python",
   "name": "python",
   "nbconvert_exporter": "python",
   "pygments_lexer": "ipython3",
   "version": "3.8.10"
  },
  "orig_nbformat": 4
 },
 "nbformat": 4,
 "nbformat_minor": 2
}
