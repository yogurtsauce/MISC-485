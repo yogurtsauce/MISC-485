{
 "cells": [
  {
   "cell_type": "code",
   "execution_count": 26,
   "metadata": {},
   "outputs": [],
   "source": [
    "import sqlite3\n",
    "from IPython.display import Image\n",
    "\n",
    "conn = sqlite3.connect('../database/database.db')\n",
    "\n",
    "cursor = conn.cursor()\n",
    "\n",
    "\n",
    "def query(input):\n",
    "    \n",
    "    cursor.execute(input)\n",
    "    colnames = cursor.description\n",
    "    for name in colnames:\n",
    "        print(name[0])\n",
    "\n",
    "\n",
    "    records = cursor.fetchall()\n",
    "\n",
    "    for record in records:\n",
    "        print(record)\n"
   ]
  },
  {
   "cell_type": "code",
   "execution_count": 28,
   "metadata": {},
   "outputs": [
    {
     "name": "stdout",
     "output_type": "stream",
     "text": [
      "Key\n",
      "Id\n",
      "Name\n",
      "Rank\n",
      "(19, '1', 'Joe', 'Sergeant')\n",
      "(20, '2', 'Mike', 'Patrolman')\n",
      "(21, '3', 'Bob', 'Patrolman')\n"
     ]
    }
   ],
   "source": [
    "query('''\n",
    "      select *\n",
    "      from OfficerDim\n",
    "      ''')"
   ]
  },
  {
   "cell_type": "code",
   "execution_count": 30,
   "metadata": {},
   "outputs": [
    {
     "name": "stdout",
     "output_type": "stream",
     "text": [
      "Key\n",
      "LPN\n",
      "Make\n",
      "Model\n",
      "Year\n",
      "OwnerDLN\n",
      "OwnerName\n",
      "OwnerGender\n",
      "OwnerBirthYear\n",
      "(1, 'IL2222', 'Honda', 'Civic', 2020, '111', 'Bill', 'Male', 1998)\n",
      "(2, 'IL2222', 'Honda', 'Civic', 2020, '222', 'Suzy', 'Female', 1987)\n",
      "(3, 'IL1111', 'Honda', 'CRV', 2017, '111', 'Bill', 'Male', 1998)\n"
     ]
    }
   ],
   "source": [
    "query('''\n",
    "      select * from vehicledim''')"
   ]
  },
  {
   "cell_type": "code",
   "execution_count": 33,
   "metadata": {},
   "outputs": [
    {
     "name": "stdout",
     "output_type": "stream",
     "text": [
      "Id\n",
      "Violation\n",
      "Fee\n",
      "('D1', 'Red Light', 200)\n",
      "('D2', 'Seat Belt', 100)\n",
      "('P1', 'Meter Expired', 100)\n",
      "('P2', 'Hydrant', 150)\n"
     ]
    }
   ],
   "source": [
    "query('''\n",
    "      select * from drivingtickettype\n",
    "      union\n",
    "      select * from parkingtickettype\n",
    "      ''')"
   ]
  }
 ],
 "metadata": {
  "interpreter": {
   "hash": "31f2aee4e71d21fbe5cf8b01ff0e069b9275f58929596ceb00d14d90e3e16cd6"
  },
  "kernelspec": {
   "display_name": "Python 3.8.10 64-bit",
   "language": "python",
   "name": "python3"
  },
  "language_info": {
   "codemirror_mode": {
    "name": "ipython",
    "version": 3
   },
   "file_extension": ".py",
   "mimetype": "text/x-python",
   "name": "python",
   "nbconvert_exporter": "python",
   "pygments_lexer": "ipython3",
   "version": "3.8.10"
  },
  "orig_nbformat": 4
 },
 "nbformat": 4,
 "nbformat_minor": 2
}
