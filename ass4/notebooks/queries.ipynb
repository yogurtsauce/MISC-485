{
 "cells": [
  {
   "cell_type": "code",
   "execution_count": 38,
   "metadata": {},
   "outputs": [],
   "source": [
    "import sqlite3\n",
    "\n",
    "conn = sqlite3.connect('../database/database.db')\n",
    "\n",
    "cursor = conn.cursor()\n",
    "\n",
    "def query(filename):\n",
    "    filepath = (f\"../input/queries/{filename}.sql\")\n",
    "    with open(filepath, \"r\")as sql:\n",
    "        query = sql.read()\n",
    "        results = cursor.execute(query).fetchall()\n",
    "        colnames = cursor.description\n",
    "\n",
    "        NameOfColumns = []\n",
    "        for name in colnames:\n",
    "            NameOfColumns.append(name[0])\n",
    "        print(NameOfColumns)\n",
    "        \n",
    "\n",
    "        for row in results:\n",
    "            print(row)\n",
    "\n"
   ]
  },
  {
   "cell_type": "code",
   "execution_count": 39,
   "metadata": {},
   "outputs": [
    {
     "name": "stdout",
     "output_type": "stream",
     "text": [
      "['Id', 'Name', 'Zip']\n",
      "('1-2-333', 'Tina', 60137)\n",
      "('2-3-444', 'Tony', 60611)\n",
      "('3-4-555', 'Pam', 35401)\n"
     ]
    }
   ],
   "source": [
    "query('customer')"
   ]
  },
  {
   "cell_type": "code",
   "execution_count": null,
   "metadata": {},
   "outputs": [],
   "source": []
  },
  {
   "cell_type": "code",
   "execution_count": null,
   "metadata": {},
   "outputs": [],
   "source": []
  }
 ],
 "metadata": {
  "interpreter": {
   "hash": "31f2aee4e71d21fbe5cf8b01ff0e069b9275f58929596ceb00d14d90e3e16cd6"
  },
  "kernelspec": {
   "display_name": "Python 3.8.10 64-bit",
   "language": "python",
   "name": "python3"
  },
  "language_info": {
   "codemirror_mode": {
    "name": "ipython",
    "version": 3
   },
   "file_extension": ".py",
   "mimetype": "text/x-python",
   "name": "python",
   "nbconvert_exporter": "python",
   "pygments_lexer": "ipython3",
   "version": "3.8.10"
  },
  "orig_nbformat": 4
 },
 "nbformat": 4,
 "nbformat_minor": 2
}
