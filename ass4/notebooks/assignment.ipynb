{
 "cells": [
  {
   "cell_type": "code",
   "execution_count": null,
   "metadata": {},
   "outputs": [],
   "source": [
    "import sqlite3\n",
    "from IPython.display import Image\n",
    "\n",
    "connect = sqlite3.connect('ass4.db')\n",
    "cursor = connect.cursor()\n",
    "\n",
    "\n",
    "def query(input):\n",
    "    cursor.execute(input)\n",
    "\n",
    "    records = cursor.fetchall()\n",
    "\n",
    "    for record in records:\n",
    "        print(record)\n"
   ]
  },
  {
   "cell_type": "code",
   "execution_count": null,
   "metadata": {},
   "outputs": [],
   "source": [
    "Image(filename='image1.jpg')"
   ]
  },
  {
   "cell_type": "code",
   "execution_count": null,
   "metadata": {},
   "outputs": [],
   "source": [
    "cursor.execute('''\n",
    "               create table Patient (\n",
    "                   PatientId integer not null primary key autoincrement,\n",
    "                   PatientGender varchar not null,\n",
    "                   PatientBDate date not null,\n",
    "                   PatientLName varchar not null,\n",
    "                   PatientFName varchar not null\n",
    "               )\n",
    "               ''')\n",
    "\n",
    "cursor.execute('''\n",
    "               create table Nurse (\n",
    "                   NurseId integer not null primary key,\n",
    "                   NurseName varchar not null\n",
    "               )\n",
    "               ''')\n",
    "\n",
    "cursor.execute('''\n",
    "               create table DrugIntakeEvent (\n",
    "                   DIETime time not null,\n",
    "                   PatientId int not null references Patient(PatientId),\n",
    "                   DIEDat date not null,\n",
    "                   DIENumber int not null,\n",
    "                   NurseId int not null references Nurse(NurseId)\n",
    "                   primary key (DIETime, PatientId)\n",
    "               )\n",
    "               ''')\n",
    "\n",
    "cursor.execute('''\n",
    "               create table Drug (\n",
    "                   DrugId integer not null primary key,\n",
    "                   DrugCoatingType varchar not null,\n",
    "                   DrugName varchar not null\n",
    "               )\n",
    "               ''')\n",
    "\n",
    "cursor.execute('''\n",
    "               create table Includes (\n",
    "                   DrugId int not null references DrugIntakeEvent (DrugId),\n",
    "                   DIETime time not null,\n",
    "                   PatientId int not null,\n",
    "                   Quantity int not null,\n",
    "                   foreign key (DrugId,DIETime) references DrugIntakeEvent (DrugId, DIETime)\n",
    "               )\n",
    "               ''')\n",
    "\n",
    "cursor.execute('''\n",
    "               create table NotToTakeWith (\n",
    "                   DrugId1 int not null,\n",
    "                   NotToTakeWithDrugId2 int not null,\n",
    "                   Primary key (drugid1, nottotakewithdrugid2)\n",
    "                   foreign key (drugid_1, NotToTakeWithDrugId2) references drug (drugid)\n",
    "               )\n",
    "               ''')\n",
    "\n",
    "cursor.execute('''\n",
    "               create table Ingredient (\n",
    "                   IngId integer not null primary key autoincrement,\n",
    "                   IngName varchar not null\n",
    "               )\n",
    "               ''')\n",
    "\n",
    "cursor.exeute('''\n",
    "              create table Contains (\n",
    "                  IngId int not null references ingredient(IngId),\n",
    "                  DrugId int not null references drug (drugid),\n",
    "                  Dosage varchar not null\n",
    "              )\n",
    "              ''')"
   ]
  },
  {
   "cell_type": "code",
   "execution_count": null,
   "metadata": {},
   "outputs": [],
   "source": [
    "Image(filename='image2.png')"
   ]
  },
  {
   "cell_type": "code",
   "execution_count": null,
   "metadata": {},
   "outputs": [],
   "source": []
  },
  {
   "cell_type": "code",
   "execution_count": null,
   "metadata": {},
   "outputs": [],
   "source": []
  }
 ],
 "metadata": {
  "interpreter": {
   "hash": "31f2aee4e71d21fbe5cf8b01ff0e069b9275f58929596ceb00d14d90e3e16cd6"
  },
  "kernelspec": {
   "display_name": "Python 3.8.10 64-bit",
   "language": "python",
   "name": "python3"
  },
  "language_info": {
   "codemirror_mode": {
    "name": "ipython",
    "version": 3
   },
   "file_extension": ".py",
   "mimetype": "text/x-python",
   "name": "python",
   "nbconvert_exporter": "python",
   "pygments_lexer": "ipython3",
   "version": "3.8.10"
  },
  "orig_nbformat": 4
 },
 "nbformat": 4,
 "nbformat_minor": 2
}
