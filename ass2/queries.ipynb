{
 "cells": [
  {
   "cell_type": "code",
   "execution_count": 4,
   "metadata": {},
   "outputs": [],
   "source": [
    "import sqlite3\n",
    "\n",
    "connect = sqlite3.connect('hw2.db')\n",
    "cursor = connect.cursor()\n",
    "\n",
    "def query(input):\n",
    "    cursor.execute(input)\n",
    "    \n",
    "    records = cursor.fetchall()\n",
    "    \n",
    "    for record in records:\n",
    "        print(record)"
   ]
  },
  {
   "cell_type": "markdown",
   "metadata": {},
   "source": [
    "2a"
   ]
  },
  {
   "cell_type": "code",
   "execution_count": 6,
   "metadata": {},
   "outputs": [
    {
     "name": "stdout",
     "output_type": "stream",
     "text": [
      "('fantastybook', '01/01/01')\n",
      "('book1', '01/01/02')\n",
      "('book2', '01/01/03')\n",
      "('book3', '01/01/04')\n"
     ]
    }
   ],
   "source": [
    "query('''\n",
    "      select bookname, pubdate\n",
    "      from Book\n",
    "      ''')"
   ]
  },
  {
   "cell_type": "markdown",
   "metadata": {},
   "source": [
    "2b"
   ]
  },
  {
   "cell_type": "code",
   "execution_count": 7,
   "metadata": {},
   "outputs": [
    {
     "name": "stdout",
     "output_type": "stream",
     "text": [
      "('fantastybook',)\n"
     ]
    }
   ],
   "source": [
    "query('''\n",
    "      select bookname\n",
    "      from book as b\n",
    "      join author as a on a.authorid = b.authorid\n",
    "      where firstname = 'Stephen'\n",
    "      ''')"
   ]
  },
  {
   "cell_type": "markdown",
   "metadata": {},
   "source": [
    "2c"
   ]
  },
  {
   "cell_type": "code",
   "execution_count": 8,
   "metadata": {},
   "outputs": [
    {
     "name": "stdout",
     "output_type": "stream",
     "text": [
      "('fantastybook',)\n"
     ]
    }
   ],
   "source": [
    "query('''\n",
    "      select bookname\n",
    "      from book as b\n",
    "      join author as a on a.authorid = b.authorid\n",
    "      where firstname = 'Stephen' and \n",
    "      PubDate >= '01/01/00'\n",
    "      ''')"
   ]
  },
  {
   "cell_type": "markdown",
   "metadata": {},
   "source": [
    "d) List every writer ID and writer name and the number of books that he/she wrote."
   ]
  },
  {
   "cell_type": "code",
   "execution_count": 23,
   "metadata": {},
   "outputs": [
    {
     "name": "stdout",
     "output_type": "stream",
     "text": [
      "(1, 'Stephen', 'hawking', 1)\n",
      "(2, 'fname1', 'lname1', 1)\n",
      "(3, 'fname2', 'lname2', 1)\n",
      "(4, 'fname3', 'lname3', 1)\n"
     ]
    }
   ],
   "source": [
    "query('''\n",
    "               select a.Authorid, FirstName, LastName, count(bookname)\n",
    "               from Author as a\n",
    "               join Book as b on b.AuthorId = a.AuthorId\n",
    "               group by a.Authorid, FirstName, LastName\n",
    "               ''')"
   ]
  },
  {
   "cell_type": "markdown",
   "metadata": {},
   "source": [
    "e) List every book title whose number of pages is less than the average number of pages of all existing books."
   ]
  },
  {
   "cell_type": "code",
   "execution_count": 9,
   "metadata": {},
   "outputs": [
    {
     "name": "stdout",
     "output_type": "stream",
     "text": [
      "('fantastybook',)\n",
      "('book1',)\n",
      "('book3',)\n"
     ]
    }
   ],
   "source": [
    "query('''\n",
    "               with AvgBooks as (\n",
    "                   select avg(NumPages)\n",
    "                   from Book\n",
    "               )\n",
    "               select bookname\n",
    "               from book\n",
    "               where numpages < (select * from AvgBooks)\n",
    "               ''')"
   ]
  },
  {
   "cell_type": "code",
   "execution_count": 10,
   "metadata": {},
   "outputs": [
    {
     "name": "stdout",
     "output_type": "stream",
     "text": [
      "('fantastybook', 22)\n",
      "('book1', 99)\n",
      "('book3', 200)\n",
      "('book2', 1000)\n"
     ]
    }
   ],
   "source": [
    "query('''\n",
    "               select bookname, numpages\n",
    "               from book\n",
    "               order by numpages\n",
    "               ''')"
   ]
  },
  {
   "cell_type": "code",
   "execution_count": 11,
   "metadata": {},
   "outputs": [
    {
     "name": "stdout",
     "output_type": "stream",
     "text": [
      "(1, 1)\n",
      "(2, 2)\n",
      "(3, 3)\n"
     ]
    }
   ],
   "source": [
    "query('''\n",
    "               select *\n",
    "               from Mentor\n",
    "               ''')"
   ]
  }
 ],
 "metadata": {
  "interpreter": {
   "hash": "31f2aee4e71d21fbe5cf8b01ff0e069b9275f58929596ceb00d14d90e3e16cd6"
  },
  "kernelspec": {
   "display_name": "Python 3.8.10 64-bit",
   "language": "python",
   "name": "python3"
  },
  "language_info": {
   "codemirror_mode": {
    "name": "ipython",
    "version": 3
   },
   "file_extension": ".py",
   "mimetype": "text/x-python",
   "name": "python",
   "nbconvert_exporter": "python",
   "pygments_lexer": "ipython3",
   "version": "3.8.10"
  },
  "orig_nbformat": 4
 },
 "nbformat": 4,
 "nbformat_minor": 2
}
